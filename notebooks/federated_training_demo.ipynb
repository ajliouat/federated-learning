{
 "cells": [
  {
   "cell_type": "code",
   "execution_count": null,
   "metadata": {},
   "outputs": [],
   "source": [
    "# Federated Training Demo\n",
    "import torch\n",
    "from src.models.federated_model import FederatedModel\n",
    "from src.pipelines.federated_training import federated_training\n",
    "\n",
    "# Example client data\n",
    "clients_data = [torch.randn(100, 784) for _ in range(5)]\n",
    "\n",
    "# Train federated model\n",
    "global_model = federated_training(clients_data)\n",
    "print(\"Federated training complete!\")"
   ]
  }
 ],
 "metadata": {
  "language_info": {
   "name": "python"
  }
 },
 "nbformat": 4,
 "nbformat_minor": 2
}
