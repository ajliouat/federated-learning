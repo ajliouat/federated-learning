{
 "cells": [
  {
   "cell_type": "code",
   "execution_count": null,
   "metadata": {},
   "outputs": [],
   "source": [
    "# Performance Benchmark\n",
    "import torch\n",
    "from src.models.federated_model import FederatedModel\n",
    "from src.pipelines.evaluation import evaluate_model\n",
    "\n",
    "# Example test data\n",
    "test_loader = DataLoader(torch.randn(100, 784), batch_size=10)\n",
    "\n",
    "# Evaluate model\n",
    "model = FederatedModel()\n",
    "accuracy = evaluate_model(model, test_loader)\n",
    "print(f\"Model Accuracy: {accuracy:.2f}%\")"
   ]
  }
 ],
 "metadata": {
  "language_info": {
   "name": "python"
  }
 },
 "nbformat": 4,
 "nbformat_minor": 2
}
