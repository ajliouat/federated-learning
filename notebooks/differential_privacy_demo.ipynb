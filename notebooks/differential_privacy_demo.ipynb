{
 "cells": [
  {
   "cell_type": "code",
   "execution_count": null,
   "metadata": {},
   "outputs": [],
   "source": [
    "# Differential Privacy Demo\n",
    "import torch\n",
    "from src.models.federated_model import FederatedModel\n",
    "from src.models.differential_privacy import apply_differential_privacy\n",
    "\n",
    "# Initialize model and optimizer\n",
    "model = FederatedModel()\n",
    "optimizer = torch.optim.SGD(model.parameters(), lr=0.01)\n",
    "\n",
    "# Apply differential privacy\n",
    "model, optimizer = apply_differential_privacy(model, optimizer, sample_rate=0.1, noise_multiplier=1.0, max_grad_norm=1.0)\n",
    "print(\"Differential privacy applied!\")"
   ]
  }
 ],
 "metadata": {
  "language_info": {
   "name": "python"
  }
 },
 "nbformat": 4,
 "nbformat_minor": 2
}
